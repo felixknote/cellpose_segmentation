{
 "cells": [
  {
   "cell_type": "code",
   "execution_count": 1,
   "id": "da8c48e6-58de-467d-a2cb-ba342d5a9ed9",
   "metadata": {},
   "outputs": [
    {
     "name": "stdout",
     "output_type": "stream",
     "text": [
      ">>> GPU activated? 1\n",
      "2025-04-23 18:08:58,269 [INFO] WRITING LOG OUTPUT TO C:\\Users\\fek64mu\\.cellpose\\run.log\n",
      "2025-04-23 18:08:58,269 [INFO] \n",
      "cellpose version: \t3.0.11 \n",
      "platform:       \twin32 \n",
      "python version: \t3.8.20 \n",
      "torch version:  \t2.4.0\n"
     ]
    }
   ],
   "source": [
    "import numpy as np\n",
    "import torch\n",
    "import time, os, sys\n",
    "from urllib.parse import urlparse\n",
    "import skimage.io\n",
    "import matplotlib.pyplot as plt\n",
    "import matplotlib as mpl\n",
    "%matplotlib inline\n",
    "mpl.rcParams['figure.dpi'] = 300\n",
    "\n",
    "from urllib.parse import urlparse\n",
    "from cellpose import models, core\n",
    "torch.cuda.is_available()\n",
    "use_GPU = core.use_gpu()\n",
    "print('>>> GPU activated? %d'%use_GPU)\n",
    "torch.set_float32_matmul_precision('high')\n",
    "# call logger_setup to have output of cellpose written\n",
    "from cellpose.io import logger_setup\n",
    "logger_setup();"
   ]
  },
  {
   "cell_type": "code",
   "execution_count": 2,
   "id": "09d4db28-730f-4d7c-97f7-4183fbee2a63",
   "metadata": {
    "scrolled": true
   },
   "outputs": [
    {
     "name": "stdout",
     "output_type": "stream",
     "text": [
      "True\n",
      "12.4\n"
     ]
    }
   ],
   "source": [
    "import torch\n",
    "print(torch.cuda.is_available())  # Should return True if GPU is detected\n",
    "print(torch.version.cuda)  # Shows the CUDA version used by PyTorch"
   ]
  },
  {
   "cell_type": "code",
   "execution_count": 3,
   "id": "f8fd44c5-1e29-469d-a5a8-53642a339372",
   "metadata": {},
   "outputs": [
    {
     "name": "stdout",
     "output_type": "stream",
     "text": [
      "2025-04-23 18:08:58,316 [INFO] ** TORCH CUDA version installed and working. **\n"
     ]
    }
   ],
   "source": [
    "from cellpose import core\n",
    "use_GPU = core.use_gpu()"
   ]
  },
  {
   "cell_type": "code",
   "execution_count": 4,
   "id": "9e98d844-f9b5-42a2-9af8-b20d122a3d1b",
   "metadata": {},
   "outputs": [
    {
     "name": "stdout",
     "output_type": "stream",
     "text": [
      "2025-04-23 18:08:58,331 [INFO] ** TORCH CUDA version installed and working. **\n",
      ">>> GPU activated? 1\n"
     ]
    }
   ],
   "source": [
    "from cellpose import core\n",
    "use_GPU = core.use_gpu()\n",
    "print('>>> GPU activated? %d' % use_GPU)"
   ]
  },
  {
   "cell_type": "code",
   "execution_count": 5,
   "id": "7abc04d8-9ca9-459b-bc68-d963e9f3e968",
   "metadata": {},
   "outputs": [
    {
     "name": "stdout",
     "output_type": "stream",
     "text": [
      "CUDA is available!\n",
      "GPU Name: NVIDIA RTX 4500 Ada Generation\n"
     ]
    }
   ],
   "source": [
    "import torch\n",
    "\n",
    "# Check if CUDA is available\n",
    "if torch.cuda.is_available():\n",
    "    print(\"CUDA is available!\")\n",
    "    print(f\"GPU Name: {torch.cuda.get_device_name(0)}\")\n",
    "else:\n",
    "    print(\"CUDA is not available. Please check your installation.\")"
   ]
  },
  {
   "cell_type": "code",
   "execution_count": null,
   "id": "436b3215-8b71-4d80-a39c-72fa60e7068b",
   "metadata": {},
   "outputs": [],
   "source": []
  }
 ],
 "metadata": {
  "kernelspec": {
   "display_name": "Python 3 (ipykernel)",
   "language": "python",
   "name": "python3"
  },
  "language_info": {
   "codemirror_mode": {
    "name": "ipython",
    "version": 3
   },
   "file_extension": ".py",
   "mimetype": "text/x-python",
   "name": "python",
   "nbconvert_exporter": "python",
   "pygments_lexer": "ipython3",
   "version": "3.8.20"
  }
 },
 "nbformat": 4,
 "nbformat_minor": 5
}
