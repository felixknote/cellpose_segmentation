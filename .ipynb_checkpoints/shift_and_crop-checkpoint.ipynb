{
 "cells": [
  {
   "cell_type": "code",
   "execution_count": 1,
   "id": "8b285729-ca62-4a0b-a479-91585932d4c4",
   "metadata": {},
   "outputs": [],
   "source": [
    "import os\n",
    "from tifffile import imread, imwrite\n",
    "import numpy as np\n",
    "from scipy.ndimage import shift"
   ]
  },
  {
   "cell_type": "code",
   "execution_count": 2,
   "id": "1fc0d4fd-f078-4814-93b3-01764dbafa84",
   "metadata": {},
   "outputs": [],
   "source": [
    "# === PARAMETERS ===\n",
    "INPUT_FOLDER = r\"D:\\Data\\FK_P001_EX005_2025_03_21 60xWIA 1.5x CRISPRi mCh\\TIF\\results\\stacked\"\n",
    "OUTPUT_FOLDER = os.path.join(INPUT_FOLDER, 'aligned_stacks')\n",
    "os.makedirs(OUTPUT_FOLDER, exist_ok=True)\n",
    "SHIFT_X = 5          # Pixels to shift in X direction\n",
    "# A positive value shifts the fluorescence channel to the right\n",
    "# A negative value shifts the fluorescence channel to the left\n",
    "SHIFT_Y = -3         # Pixels to shift in Y direction\n",
    "# A positive value shifts the fluorescence channel downwards.\n",
    "# A negative value shifts the fluorescence channel upwards.\n",
    "\n",
    "CROP_SIZE_X = 3000     # Final X dimension (width)\n",
    "CROP_SIZE_Y = 3000     # Final Y dimension (height)"
   ]
  },
  {
   "cell_type": "code",
   "execution_count": 3,
   "id": "8a7daae6-affd-4764-ac72-a792f97744ea",
   "metadata": {},
   "outputs": [],
   "source": [
    "def align_and_crop_tif_stack(\n",
    "    input_folder,\n",
    "    shift_x,\n",
    "    shift_y,\n",
    "    crop_size_x,\n",
    "    crop_size_y\n",
    "):\n",
    "    # Make sure input_folder is an absolute path\n",
    "    input_folder = os.path.abspath(input_folder)\n",
    "    # Output folder is always input_folder/aligned_stacks\n",
    "    output_folder = os.path.join(input_folder, 'aligned_stacks')\n",
    "    os.makedirs(output_folder, exist_ok=True)\n",
    "    \n",
    "    # Get TIFF files and print count\n",
    "    tif_files = [f for f in os.listdir(input_folder) \n",
    "                 if f.lower().endswith(('.tif', '.tiff')) and os.path.isfile(os.path.join(input_folder, f))]\n",
    "    print(f\"Found {len(tif_files)} TIFF files in '{input_folder}'\")\n",
    "    print(f\"Saving aligned images to '{output_folder}'\")\n",
    "\n",
    "    # Process each TIFF file\n",
    "    for i, filename in enumerate(tif_files, 1):\n",
    "        img_path = os.path.join(input_folder, filename)\n",
    "        img = imread(img_path)\n",
    "        \n",
    "        # Shift fluorescence channel (channel 1)\n",
    "        shifted_fluo = shift(img[1, ...], (shift_y, shift_x), mode='nearest')\n",
    "        aligned_img = np.stack([img[0, ...], shifted_fluo], axis=0)\n",
    "        \n",
    "        # Calculate crop boundaries\n",
    "        h, w = aligned_img.shape[1:]  # Height and width are the 2nd and 3rd dimensions\n",
    "        start_y = (h - crop_size_y) // 2\n",
    "        start_x = (w - crop_size_x) // 2\n",
    "        cropped = aligned_img[:,\n",
    "            start_y:start_y + crop_size_y,\n",
    "            start_x:start_x + crop_size_x\n",
    "        ]\n",
    "        \n",
    "        # Save processed image\n",
    "        output_path = os.path.join(output_folder, filename)\n",
    "        imwrite(output_path, cropped)\n",
    "        print(f\"[{i}/{len(tif_files)}] Processed: {filename} => {output_path}\")"
   ]
  },
  {
   "cell_type": "code",
   "execution_count": 4,
   "id": "62d7825c-4a7a-4952-b8ac-6b477fcc761e",
   "metadata": {},
   "outputs": [
    {
     "name": "stdout",
     "output_type": "stream",
     "text": [
      "Found 389 TIFF files in 'D:\\Data\\FK_P001_EX005_2025_03_21 60xWIA 1.5x CRISPRi mCh\\TIF\\results\\stacked'\n",
      "Saving aligned images to 'D:\\Data\\FK_P001_EX005_2025_03_21 60xWIA 1.5x CRISPRi mCh\\TIF\\results\\stacked\\aligned_stacks'\n",
      "[1/389] Processed: WellA01_Seq0000_Z10_slice10_stack.tif => D:\\Data\\FK_P001_EX005_2025_03_21 60xWIA 1.5x CRISPRi mCh\\TIF\\results\\stacked\\aligned_stacks\\WellA01_Seq0000_Z10_slice10_stack.tif\n",
      "[2/389] Processed: WellA01_Seq0000_Z1_slice18_stack.tif => D:\\Data\\FK_P001_EX005_2025_03_21 60xWIA 1.5x CRISPRi mCh\\TIF\\results\\stacked\\aligned_stacks\\WellA01_Seq0000_Z1_slice18_stack.tif\n",
      "[3/389] Processed: WellA01_Seq0000_Z2_slice10_stack.tif => D:\\Data\\FK_P001_EX005_2025_03_21 60xWIA 1.5x CRISPRi mCh\\TIF\\results\\stacked\\aligned_stacks\\WellA01_Seq0000_Z2_slice10_stack.tif\n",
      "[4/389] Processed: WellA01_Seq0000_Z3_slice12_stack.tif => D:\\Data\\FK_P001_EX005_2025_03_21 60xWIA 1.5x CRISPRi mCh\\TIF\\results\\stacked\\aligned_stacks\\WellA01_Seq0000_Z3_slice12_stack.tif\n",
      "[5/389] Processed: WellA01_Seq0000_Z4_slice11_stack.tif => D:\\Data\\FK_P001_EX005_2025_03_21 60xWIA 1.5x CRISPRi mCh\\TIF\\results\\stacked\\aligned_stacks\\WellA01_Seq0000_Z4_slice11_stack.tif\n",
      "[6/389] Processed: WellA01_Seq0000_Z5_slice7_stack.tif => D:\\Data\\FK_P001_EX005_2025_03_21 60xWIA 1.5x CRISPRi mCh\\TIF\\results\\stacked\\aligned_stacks\\WellA01_Seq0000_Z5_slice7_stack.tif\n",
      "[7/389] Processed: WellA01_Seq0000_Z6_slice11_stack.tif => D:\\Data\\FK_P001_EX005_2025_03_21 60xWIA 1.5x CRISPRi mCh\\TIF\\results\\stacked\\aligned_stacks\\WellA01_Seq0000_Z6_slice11_stack.tif\n",
      "[8/389] Processed: WellA01_Seq0000_Z7_slice10_stack.tif => D:\\Data\\FK_P001_EX005_2025_03_21 60xWIA 1.5x CRISPRi mCh\\TIF\\results\\stacked\\aligned_stacks\\WellA01_Seq0000_Z7_slice10_stack.tif\n",
      "[9/389] Processed: WellA01_Seq0000_Z8_slice10_stack.tif => D:\\Data\\FK_P001_EX005_2025_03_21 60xWIA 1.5x CRISPRi mCh\\TIF\\results\\stacked\\aligned_stacks\\WellA01_Seq0000_Z8_slice10_stack.tif\n",
      "[10/389] Processed: WellA01_Seq0000_Z9_slice11_stack.tif => D:\\Data\\FK_P001_EX005_2025_03_21 60xWIA 1.5x CRISPRi mCh\\TIF\\results\\stacked\\aligned_stacks\\WellA01_Seq0000_Z9_slice11_stack.tif\n",
      "[11/389] Processed: WellA02_Seq0002_Z10_slice10_stack.tif => D:\\Data\\FK_P001_EX005_2025_03_21 60xWIA 1.5x CRISPRi mCh\\TIF\\results\\stacked\\aligned_stacks\\WellA02_Seq0002_Z10_slice10_stack.tif\n",
      "[12/389] Processed: WellA02_Seq0002_Z1_slice18_stack.tif => D:\\Data\\FK_P001_EX005_2025_03_21 60xWIA 1.5x CRISPRi mCh\\TIF\\results\\stacked\\aligned_stacks\\WellA02_Seq0002_Z1_slice18_stack.tif\n",
      "[13/389] Processed: WellA02_Seq0002_Z2_slice18_stack.tif => D:\\Data\\FK_P001_EX005_2025_03_21 60xWIA 1.5x CRISPRi mCh\\TIF\\results\\stacked\\aligned_stacks\\WellA02_Seq0002_Z2_slice18_stack.tif\n",
      "[14/389] Processed: WellA02_Seq0002_Z3_slice11_stack.tif => D:\\Data\\FK_P001_EX005_2025_03_21 60xWIA 1.5x CRISPRi mCh\\TIF\\results\\stacked\\aligned_stacks\\WellA02_Seq0002_Z3_slice11_stack.tif\n",
      "[15/389] Processed: WellA02_Seq0002_Z4_slice8_stack.tif => D:\\Data\\FK_P001_EX005_2025_03_21 60xWIA 1.5x CRISPRi mCh\\TIF\\results\\stacked\\aligned_stacks\\WellA02_Seq0002_Z4_slice8_stack.tif\n",
      "[16/389] Processed: WellA02_Seq0002_Z5_slice11_stack.tif => D:\\Data\\FK_P001_EX005_2025_03_21 60xWIA 1.5x CRISPRi mCh\\TIF\\results\\stacked\\aligned_stacks\\WellA02_Seq0002_Z5_slice11_stack.tif\n",
      "[17/389] Processed: WellA02_Seq0002_Z6_slice11_stack.tif => D:\\Data\\FK_P001_EX005_2025_03_21 60xWIA 1.5x CRISPRi mCh\\TIF\\results\\stacked\\aligned_stacks\\WellA02_Seq0002_Z6_slice11_stack.tif\n",
      "[18/389] Processed: WellA02_Seq0002_Z7_slice12_stack.tif => D:\\Data\\FK_P001_EX005_2025_03_21 60xWIA 1.5x CRISPRi mCh\\TIF\\results\\stacked\\aligned_stacks\\WellA02_Seq0002_Z7_slice12_stack.tif\n",
      "[19/389] Processed: WellA02_Seq0002_Z8_slice12_stack.tif => D:\\Data\\FK_P001_EX005_2025_03_21 60xWIA 1.5x CRISPRi mCh\\TIF\\results\\stacked\\aligned_stacks\\WellA02_Seq0002_Z8_slice12_stack.tif\n",
      "[20/389] Processed: WellA02_Seq0002_Z9_slice11_stack.tif => D:\\Data\\FK_P001_EX005_2025_03_21 60xWIA 1.5x CRISPRi mCh\\TIF\\results\\stacked\\aligned_stacks\\WellA02_Seq0002_Z9_slice11_stack.tif\n",
      "[21/389] Processed: WellA03_Seq0004_Z10_slice11_stack.tif => D:\\Data\\FK_P001_EX005_2025_03_21 60xWIA 1.5x CRISPRi mCh\\TIF\\results\\stacked\\aligned_stacks\\WellA03_Seq0004_Z10_slice11_stack.tif\n",
      "[22/389] Processed: WellA03_Seq0004_Z1_slice11_stack.tif => D:\\Data\\FK_P001_EX005_2025_03_21 60xWIA 1.5x CRISPRi mCh\\TIF\\results\\stacked\\aligned_stacks\\WellA03_Seq0004_Z1_slice11_stack.tif\n",
      "[23/389] Processed: WellA03_Seq0004_Z2_slice11_stack.tif => D:\\Data\\FK_P001_EX005_2025_03_21 60xWIA 1.5x CRISPRi mCh\\TIF\\results\\stacked\\aligned_stacks\\WellA03_Seq0004_Z2_slice11_stack.tif\n",
      "[24/389] Processed: WellA03_Seq0004_Z3_slice10_stack.tif => D:\\Data\\FK_P001_EX005_2025_03_21 60xWIA 1.5x CRISPRi mCh\\TIF\\results\\stacked\\aligned_stacks\\WellA03_Seq0004_Z3_slice10_stack.tif\n",
      "[25/389] Processed: WellA03_Seq0004_Z4_slice11_stack.tif => D:\\Data\\FK_P001_EX005_2025_03_21 60xWIA 1.5x CRISPRi mCh\\TIF\\results\\stacked\\aligned_stacks\\WellA03_Seq0004_Z4_slice11_stack.tif\n",
      "[26/389] Processed: WellA03_Seq0004_Z5_slice11_stack.tif => D:\\Data\\FK_P001_EX005_2025_03_21 60xWIA 1.5x CRISPRi mCh\\TIF\\results\\stacked\\aligned_stacks\\WellA03_Seq0004_Z5_slice11_stack.tif\n",
      "[27/389] Processed: WellA03_Seq0004_Z6_slice11_stack.tif => D:\\Data\\FK_P001_EX005_2025_03_21 60xWIA 1.5x CRISPRi mCh\\TIF\\results\\stacked\\aligned_stacks\\WellA03_Seq0004_Z6_slice11_stack.tif\n",
      "[28/389] Processed: WellA03_Seq0004_Z7_slice14_stack.tif => D:\\Data\\FK_P001_EX005_2025_03_21 60xWIA 1.5x CRISPRi mCh\\TIF\\results\\stacked\\aligned_stacks\\WellA03_Seq0004_Z7_slice14_stack.tif\n",
      "[29/389] Processed: WellA03_Seq0004_Z8_slice12_stack.tif => D:\\Data\\FK_P001_EX005_2025_03_21 60xWIA 1.5x CRISPRi mCh\\TIF\\results\\stacked\\aligned_stacks\\WellA03_Seq0004_Z8_slice12_stack.tif\n",
      "[30/389] Processed: WellA03_Seq0004_Z9_slice11_stack.tif => D:\\Data\\FK_P001_EX005_2025_03_21 60xWIA 1.5x CRISPRi mCh\\TIF\\results\\stacked\\aligned_stacks\\WellA03_Seq0004_Z9_slice11_stack.tif\n",
      "[31/389] Processed: WellA04_Seq0006_Z10_slice12_stack.tif => D:\\Data\\FK_P001_EX005_2025_03_21 60xWIA 1.5x CRISPRi mCh\\TIF\\results\\stacked\\aligned_stacks\\WellA04_Seq0006_Z10_slice12_stack.tif\n",
      "[32/389] Processed: WellA04_Seq0006_Z1_slice11_stack.tif => D:\\Data\\FK_P001_EX005_2025_03_21 60xWIA 1.5x CRISPRi mCh\\TIF\\results\\stacked\\aligned_stacks\\WellA04_Seq0006_Z1_slice11_stack.tif\n",
      "[33/389] Processed: WellA04_Seq0006_Z2_slice11_stack.tif => D:\\Data\\FK_P001_EX005_2025_03_21 60xWIA 1.5x CRISPRi mCh\\TIF\\results\\stacked\\aligned_stacks\\WellA04_Seq0006_Z2_slice11_stack.tif\n",
      "[34/389] Processed: WellA04_Seq0006_Z3_slice12_stack.tif => D:\\Data\\FK_P001_EX005_2025_03_21 60xWIA 1.5x CRISPRi mCh\\TIF\\results\\stacked\\aligned_stacks\\WellA04_Seq0006_Z3_slice12_stack.tif\n"
     ]
    },
    {
     "ename": "KeyboardInterrupt",
     "evalue": "",
     "output_type": "error",
     "traceback": [
      "\u001b[1;31m---------------------------------------------------------------------------\u001b[0m",
      "\u001b[1;31mKeyboardInterrupt\u001b[0m                         Traceback (most recent call last)",
      "\u001b[1;32m~\\AppData\\Local\\Temp\\ipykernel_22276\\2438667727.py\u001b[0m in \u001b[0;36m?\u001b[1;34m()\u001b[0m\n\u001b[1;32m----> 2\u001b[1;33m \u001b[1;31m# === RUN SCRIPT ===\u001b[0m\u001b[1;33m\u001b[0m\u001b[1;33m\u001b[0m\u001b[1;33m\u001b[0m\u001b[0m\n\u001b[0m\u001b[0;32m      3\u001b[0m align_and_crop_tif_stack(\n\u001b[0;32m      4\u001b[0m     \u001b[0minput_folder\u001b[0m\u001b[1;33m=\u001b[0m\u001b[0mINPUT_FOLDER\u001b[0m\u001b[1;33m,\u001b[0m\u001b[1;33m\u001b[0m\u001b[1;33m\u001b[0m\u001b[0m\n\u001b[0;32m      5\u001b[0m     \u001b[0mshift_x\u001b[0m\u001b[1;33m=\u001b[0m\u001b[0mSHIFT_X\u001b[0m\u001b[1;33m,\u001b[0m\u001b[1;33m\u001b[0m\u001b[1;33m\u001b[0m\u001b[0m\n",
      "\u001b[1;32m~\\AppData\\Local\\Temp\\ipykernel_22276\\1189824660.py\u001b[0m in \u001b[0;36m?\u001b[1;34m(input_folder, shift_x, shift_y, crop_size_x, crop_size_y)\u001b[0m\n\u001b[0;32m     36\u001b[0m         ]\n\u001b[0;32m     37\u001b[0m \u001b[1;33m\u001b[0m\u001b[0m\n\u001b[0;32m     38\u001b[0m         \u001b[1;31m# Save processed image\u001b[0m\u001b[1;33m\u001b[0m\u001b[1;33m\u001b[0m\u001b[1;33m\u001b[0m\u001b[0m\n\u001b[0;32m     39\u001b[0m         \u001b[0moutput_path\u001b[0m \u001b[1;33m=\u001b[0m \u001b[0mos\u001b[0m\u001b[1;33m.\u001b[0m\u001b[0mpath\u001b[0m\u001b[1;33m.\u001b[0m\u001b[0mjoin\u001b[0m\u001b[1;33m(\u001b[0m\u001b[0moutput_folder\u001b[0m\u001b[1;33m,\u001b[0m \u001b[0mfilename\u001b[0m\u001b[1;33m)\u001b[0m\u001b[1;33m\u001b[0m\u001b[1;33m\u001b[0m\u001b[0m\n\u001b[1;32m---> 40\u001b[1;33m         \u001b[0mimwrite\u001b[0m\u001b[1;33m(\u001b[0m\u001b[0moutput_path\u001b[0m\u001b[1;33m,\u001b[0m \u001b[0mcropped\u001b[0m\u001b[1;33m)\u001b[0m\u001b[1;33m\u001b[0m\u001b[1;33m\u001b[0m\u001b[0m\n\u001b[0m\u001b[0;32m     41\u001b[0m         \u001b[0mprint\u001b[0m\u001b[1;33m(\u001b[0m\u001b[1;34mf\"[{i}/{len(tif_files)}] Processed: {filename} => {output_path}\"\u001b[0m\u001b[1;33m)\u001b[0m\u001b[1;33m\u001b[0m\u001b[1;33m\u001b[0m\u001b[0m\n",
      "\u001b[1;32m~\\.conda\\envs\\cellpose\\lib\\site-packages\\tifffile\\tifffile.py\u001b[0m in \u001b[0;36m?\u001b[1;34m(file, data, bigtiff, byteorder, imagej, ome, shaped, append, shape, dtype, photometric, planarconfig, extrasamples, volumetric, tile, rowsperstrip, bitspersample, compression, compressionargs, predictor, subsampling, jpegtables, colormap, description, datetime, resolution, resolutionunit, subfiletype, software, metadata, extratags, contiguous, truncate, align, maxworkers, returnoffset)\u001b[0m\n\u001b[0;32m   1285\u001b[0m         \u001b[0mimagej\u001b[0m\u001b[1;33m=\u001b[0m\u001b[0mimagej\u001b[0m\u001b[1;33m,\u001b[0m\u001b[1;33m\u001b[0m\u001b[1;33m\u001b[0m\u001b[0m\n\u001b[0;32m   1286\u001b[0m         \u001b[0mome\u001b[0m\u001b[1;33m=\u001b[0m\u001b[0mome\u001b[0m\u001b[1;33m,\u001b[0m\u001b[1;33m\u001b[0m\u001b[1;33m\u001b[0m\u001b[0m\n\u001b[0;32m   1287\u001b[0m         \u001b[0mshaped\u001b[0m\u001b[1;33m=\u001b[0m\u001b[0mshaped\u001b[0m\u001b[1;33m,\u001b[0m\u001b[1;33m\u001b[0m\u001b[1;33m\u001b[0m\u001b[0m\n\u001b[0;32m   1288\u001b[0m     ) as tif:\n\u001b[1;32m-> 1289\u001b[1;33m         result = tif.write(\n\u001b[0m\u001b[0;32m   1290\u001b[0m             \u001b[0mdata\u001b[0m\u001b[1;33m,\u001b[0m\u001b[1;33m\u001b[0m\u001b[1;33m\u001b[0m\u001b[0m\n\u001b[0;32m   1291\u001b[0m             \u001b[0mshape\u001b[0m\u001b[1;33m=\u001b[0m\u001b[0mshape\u001b[0m\u001b[1;33m,\u001b[0m\u001b[1;33m\u001b[0m\u001b[1;33m\u001b[0m\u001b[0m\n\u001b[0;32m   1292\u001b[0m             \u001b[0mdtype\u001b[0m\u001b[1;33m=\u001b[0m\u001b[0mdtype\u001b[0m\u001b[1;33m,\u001b[0m\u001b[1;33m\u001b[0m\u001b[1;33m\u001b[0m\u001b[0m\n",
      "\u001b[1;31mKeyboardInterrupt\u001b[0m: "
     ]
    }
   ],
   "source": [
    "# === RUN SCRIPT ===\n",
    "align_and_crop_tif_stack(\n",
    "    input_folder=INPUT_FOLDER,\n",
    "    shift_x=SHIFT_X,\n",
    "    shift_y=SHIFT_Y,\n",
    "    crop_size_x=CROP_SIZE_X,\n",
    "    crop_size_y=CROP_SIZE_Y\n",
    ")"
   ]
  },
  {
   "cell_type": "code",
   "execution_count": null,
   "id": "a3a3f514-3477-40db-b40f-7d6f397ccb22",
   "metadata": {},
   "outputs": [],
   "source": []
  }
 ],
 "metadata": {
  "kernelspec": {
   "display_name": "Python 3 (ipykernel)",
   "language": "python",
   "name": "python3"
  },
  "language_info": {
   "codemirror_mode": {
    "name": "ipython",
    "version": 3
   },
   "file_extension": ".py",
   "mimetype": "text/x-python",
   "name": "python",
   "nbconvert_exporter": "python",
   "pygments_lexer": "ipython3",
   "version": "3.8.20"
  }
 },
 "nbformat": 4,
 "nbformat_minor": 5
}
