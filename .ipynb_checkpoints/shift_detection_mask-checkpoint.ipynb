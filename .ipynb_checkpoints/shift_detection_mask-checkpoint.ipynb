{
 "cells": [
  {
   "cell_type": "code",
   "execution_count": 1,
   "id": "bcb0ce4c-31a7-4601-b434-51e2905c98d5",
   "metadata": {},
   "outputs": [],
   "source": [
    "import os\n",
    "import numpy as np\n",
    "import matplotlib.pyplot as plt\n",
    "from tifffile import imread, imwrite\n",
    "from scipy.signal import fftconvolve\n",
    "from scipy.ndimage import shift as nd_shift\n",
    "from tqdm import tqdm\n",
    "\n",
    "INPUT_FOLDER = r\"D:\\Data\\FK_P001_EX005_2025_03_21 60xWIA 1.5x CRISPRi mCh\\TIF\\results\\stacked\"\n",
    "MASK_FOLDER = r\"D:\\Data\\FK_P001_EX005_2025_03_21 60xWIA 1.5x CRISPRi mCh\\TIF\\results\\stacked\\cyto3_gpu_results\"\n",
    "OUTPUT_FOLDER = os.path.join(INPUT_FOLDER, \"aligned_shift_bymask\")\n",
    "REPORT_FOLDER = os.path.join(INPUT_FOLDER, \"cross_correlation_reports\")\n",
    "SUMMARY_REPORT = os.path.join(INPUT_FOLDER, \"cross_correlation_summary.png\")\n",
    "MAX_SHIFT_DISPLAY = 50"
   ]
  },
  {
   "cell_type": "code",
   "execution_count": 2,
   "id": "07afb7a6-2138-4376-93b7-d14db04058c2",
   "metadata": {},
   "outputs": [],
   "source": [
    "def load_and_normalize(filepath, mask):\n",
    "    stack = imread(filepath)\n",
    "    fluorescence = stack[1].astype(np.float32)\n",
    "    fluorescence = (fluorescence - np.mean(fluorescence)) / np.std(fluorescence)\n",
    "    # Use the mask as channel 0\n",
    "    dic = mask.astype(np.float32)\n",
    "    dic = (dic - np.mean(dic)) / np.std(dic)\n",
    "    return dic, fluorescence"
   ]
  },
  {
   "cell_type": "code",
   "execution_count": 3,
   "id": "e8abd645-1b8a-4b3c-8bb7-2ef0a682fcc6",
   "metadata": {},
   "outputs": [],
   "source": [
    "def fft_cross_correlation(dic, fluorescence):\n",
    "    correlation = fftconvolve(dic, fluorescence[::-1, ::-1], mode='same')\n",
    "    max_y, max_x = np.unravel_index(np.argmax(correlation), correlation.shape)\n",
    "    center_y, center_x = np.array(correlation.shape) // 2\n",
    "    shift_y = max_y - center_y\n",
    "    shift_x = max_x - center_x\n",
    "    return correlation, (shift_y, shift_x)"
   ]
  },
  {
   "cell_type": "code",
   "execution_count": 4,
   "id": "eec85f39-0776-4c9c-8473-29b5aa798261",
   "metadata": {},
   "outputs": [],
   "source": [
    "def plot_correlation_heatmap(correlation, shift, filename, save_folder, max_shift_display=50):\n",
    "    center_y, center_x = np.array(correlation.shape) // 2\n",
    "    cropped = correlation[\n",
    "        center_y - max_shift_display:center_y + max_shift_display + 1,\n",
    "        center_x - max_shift_display:center_x + max_shift_display + 1\n",
    "    ]\n",
    "    extent = [-max_shift_display, MAX_SHIFT_DISPLAY, MAX_SHIFT_DISPLAY, -MAX_SHIFT_DISPLAY]\n",
    "    plt.figure(figsize=(6,5))\n",
    "    plt.imshow(cropped, cmap='viridis', extent=extent)\n",
    "    plt.scatter(shift[1], shift[0], color='red', label=f'Shift: ({shift[1]}, {shift[0]})')\n",
    "    plt.colorbar(label='Cross-correlation')\n",
    "    plt.xlabel('X shift (pixels)')\n",
    "    plt.ylabel('Y shift (pixels)')\n",
    "    plt.title('FFT-based Cross-Correlation')\n",
    "    plt.legend()\n",
    "    plt.grid(True)\n",
    "    plt.tight_layout()\n",
    "    outpath = os.path.join(save_folder, f\"Cross-Correlation_{os.path.splitext(filename)[0]}.png\")\n",
    "    plt.savefig(outpath)\n",
    "    plt.close()"
   ]
  },
  {
   "cell_type": "code",
   "execution_count": 5,
   "id": "91881816-d5e2-45a9-8be5-e13d5c182054",
   "metadata": {},
   "outputs": [],
   "source": [
    "def plot_shift_summary(shifts, max_shift_display, outpath):\n",
    "    shifts = np.array(shifts)\n",
    "    mean_shift = np.mean(shifts, axis=0)\n",
    "    plt.figure(figsize=(6,6))\n",
    "    plt.scatter(shifts[:,1], shifts[:,0], c='blue', alpha=0.7, label='Individual Shifts')\n",
    "    plt.scatter(mean_shift[1], mean_shift[0], c='red', marker='x', s=100, label=f\"Mean Shift ({mean_shift[1]:.2f}, {mean_shift[0]:.2f})\")\n",
    "    plt.xlim([-max_shift_display, max_shift_display])\n",
    "    plt.ylim([-max_shift_display, max_shift_display])\n",
    "    plt.xlabel('X shift (pixels)')\n",
    "    plt.ylabel('Y shift (pixels)')\n",
    "    plt.title('Summary of Channel Shifts')\n",
    "    plt.grid(True)\n",
    "    plt.legend()\n",
    "    plt.tight_layout()\n",
    "    plt.savefig(outpath)\n",
    "    plt.close()\n",
    "    return mean_shift"
   ]
  },
  {
   "cell_type": "code",
   "execution_count": 6,
   "id": "9414a3f3-fe46-4c41-8576-78e88cb249fa",
   "metadata": {},
   "outputs": [],
   "source": [
    "def get_mask_path(stack_filename, mask_folder):\n",
    "    base_name = stack_filename.replace(\".tif\", \"\")\n",
    "    mask_filename = base_name.replace(\"_stack\", \"_stack_masks.tif\")\n",
    "    mask_path = os.path.join(mask_folder, mask_filename)\n",
    "    return mask_path"
   ]
  },
  {
   "cell_type": "code",
   "execution_count": 7,
   "id": "0708b903-1059-40fa-bd7b-d803dd8f4c9a",
   "metadata": {},
   "outputs": [],
   "source": [
    "def process_stack(filepath, output_folder, report_folder, max_shift_display, mask_folder):\n",
    "    filename = os.path.basename(filepath)\n",
    "    mask_path = get_mask_path(filename, mask_folder)\n",
    "\n",
    "    if not os.path.exists(mask_path):\n",
    "        print(f\"Mask not found for {filename}, skipping\")\n",
    "        return filename, (0, 0)\n",
    "\n",
    "    mask = imread(mask_path)\n",
    "    # Convert mask to binary\n",
    "    mask = (mask > 0).astype(np.uint8)\n",
    "\n",
    "    dic, fluorescence = load_and_normalize(filepath, mask)\n",
    "    correlation, shift = fft_cross_correlation(dic, fluorescence)\n",
    "\n",
    "    plot_correlation_heatmap(correlation, shift, filename, report_folder, max_shift_display)\n",
    "\n",
    "    # Apply the shift to the fluorescence channel\n",
    "    shifted_fluorescence = nd_shift(fluorescence, shift, mode='nearest')\n",
    "\n",
    "    # Create a stack with the mask and shifted fluorescence\n",
    "    output_stack = np.stack([mask, shifted_fluorescence])\n",
    "    output_path = os.path.join(output_folder, f\"aligned_{filename}\")\n",
    "    imwrite(output_path, output_stack.astype(np.float32))  # Save as float32\n",
    "\n",
    "    return filename, shift"
   ]
  },
  {
   "cell_type": "code",
   "execution_count": 8,
   "id": "3e3bdbe7-d679-4b24-b205-3c585e573086",
   "metadata": {},
   "outputs": [],
   "source": [
    "def plot_shift_summary(shifts, max_shift_display, outpath):\n",
    "    shifts = np.array(shifts)\n",
    "    mean_shift = np.mean(shifts, axis=0)\n",
    "    plt.figure(figsize=(6,6))\n",
    "    plt.scatter(shifts[:,1], shifts[:,0], c='blue', alpha=0.7, label='Individual Shifts')\n",
    "    plt.scatter(mean_shift[1], mean_shift[0], c='red', marker='x', s=100, label=f\"Mean Shift ({mean_shift[1]:.2f}, {mean_shift[0]:.2f})\")\n",
    "    plt.xlim([-max_shift_display, max_shift_display])\n",
    "    plt.ylim([-max_shift_display, max_shift_display])\n",
    "    plt.xlabel('X shift (pixels)')\n",
    "    plt.ylabel('Y shift (pixels)')\n",
    "    plt.title('Summary of Channel Shifts')\n",
    "    plt.grid(True)\n",
    "    plt.legend()\n",
    "    plt.tight_layout()\n",
    "    plt.savefig(outpath)\n",
    "    plt.close()\n",
    "    return mean_shift"
   ]
  },
  {
   "cell_type": "code",
   "execution_count": null,
   "id": "db80eb09-8e5b-49bc-a8a9-e7b307410ca6",
   "metadata": {
    "scrolled": true
   },
   "outputs": [
    {
     "name": "stderr",
     "output_type": "stream",
     "text": [
      "Processing stacks:  11%|██████▌                                                       | 41/389 [02:30<22:12,  3.83s/it]"
     ]
    }
   ],
   "source": [
    "def main():\n",
    "    tif_files = [f for f in os.listdir(INPUT_FOLDER) if f.lower().endswith('.tif')]\n",
    "    shifts = []\n",
    "    filenames = []\n",
    "    for filename in tqdm(tif_files, desc=\"Processing stacks\"):\n",
    "        filepath = os.path.join(INPUT_FOLDER, filename)\n",
    "        fname, shift = process_stack(filepath, OUTPUT_FOLDER, REPORT_FOLDER, MAX_SHIFT_DISPLAY, MASK_FOLDER)\n",
    "        shifts.append(shift)\n",
    "        filenames.append(fname)\n",
    "    shifts = np.array(shifts)\n",
    "    filenames = np.array(filenames)\n",
    "    # Filter out large shifts\n",
    "    valid_mask = (np.abs(shifts[:, 0]) <= MAX_SHIFT_DISPLAY) & (np.abs(shifts[:, 1]) <= MAX_SHIFT_DISPLAY)\n",
    "    valid_shifts = shifts[valid_mask]\n",
    "    valid_filenames = filenames[valid_mask]\n",
    "    mean_shift = plot_shift_summary(valid_shifts, MAX_SHIFT_DISPLAY, SUMMARY_REPORT)\n",
    "    print(f\"\\nProcessed {len(tif_files)} files.\")\n",
    "    print(f\"Valid shifts for summary: {len(valid_shifts)}\")\n",
    "    print(f\"Mean shift: (Y: {mean_shift[0]:.2f}, X: {mean_shift[1]:.2f})\")\n",
    "    print(f\"Summary plot saved to: {SUMMARY_REPORT}\")\n",
    "    # Optionally, print outliers\n",
    "    outlier_filenames = filenames[~valid_mask]\n",
    "    if len(outlier_filenames) > 0:\n",
    "        print(f\"\\nExcluded {len(outlier_filenames)} outlier(s) from summary (shift > {MAX_SHIFT_DISPLAY}):\")\n",
    "        for fname in outlier_filenames:\n",
    "            print(f\"  {fname}\")\n",
    "\n",
    "if __name__ == \"__main__\":\n",
    "    main()"
   ]
  },
  {
   "cell_type": "code",
   "execution_count": null,
   "id": "32c2fa88-478c-4e2f-9f0b-32e2d16fc2a7",
   "metadata": {},
   "outputs": [],
   "source": []
  }
 ],
 "metadata": {
  "kernelspec": {
   "display_name": "Python 3 (ipykernel)",
   "language": "python",
   "name": "python3"
  },
  "language_info": {
   "codemirror_mode": {
    "name": "ipython",
    "version": 3
   },
   "file_extension": ".py",
   "mimetype": "text/x-python",
   "name": "python",
   "nbconvert_exporter": "python",
   "pygments_lexer": "ipython3",
   "version": "3.8.20"
  }
 },
 "nbformat": 4,
 "nbformat_minor": 5
}
