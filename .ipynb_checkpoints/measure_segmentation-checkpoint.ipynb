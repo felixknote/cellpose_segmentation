{
 "cells": [
  {
   "cell_type": "code",
   "execution_count": 1,
   "id": "3dc22e47-f1d0-4456-9e66-3abbd8322328",
   "metadata": {},
   "outputs": [],
   "source": [
    "import os\n",
    "import numpy as np\n",
    "import tifffile\n",
    "import pandas as pd\n",
    "from skimage.measure import regionprops, label\n",
    "from tqdm import tqdm"
   ]
  },
  {
   "cell_type": "code",
   "execution_count": 2,
   "id": "4b09c112-98f6-4be4-b6d8-6776bc9cfd1b",
   "metadata": {},
   "outputs": [],
   "source": [
    "# === Parameters ===\n",
    "masks_folder = r\"E:\\Data\\2025_04_22 60xWIA 1.5x CRISPRi mCh\\sharpest_slice\\03_segmentation\\cyto3_gpu_results\"\n",
    "stacks_folder = r\"E:\\Data\\2025_04_22 60xWIA 1.5x CRISPRi mCh\\sharpest_slice\\02_aligned_stacks\""
   ]
  },
  {
   "cell_type": "code",
   "execution_count": 3,
   "id": "d98a1e58-acd1-4386-b2c0-23b461d064e8",
   "metadata": {},
   "outputs": [],
   "source": [
    "# === Utility: shape features (optional, can be expanded) ===\n",
    "def shape_features(region):\n",
    "    area = region.area\n",
    "    perimeter = region.perimeter if region.perimeter > 0 else 1\n",
    "    roundness = 4 * np.pi * area / (perimeter ** 2)\n",
    "    major_axis = region.major_axis_length\n",
    "    minor_axis = region.minor_axis_length\n",
    "    aspect_ratio = major_axis / minor_axis if minor_axis != 0 else 0\n",
    "    return {\n",
    "        \"Area\": area,\n",
    "        \"Length\": major_axis,\n",
    "        \"Width\": minor_axis,\n",
    "        \"Roundness\": roundness,\n",
    "        \"Aspect Ratio\": aspect_ratio\n",
    "    }\n"
   ]
  },
  {
   "cell_type": "code",
   "execution_count": null,
   "id": "a1b118b1-c224-4845-8074-59326476b70d",
   "metadata": {},
   "outputs": [
    {
     "name": "stdout",
     "output_type": "stream",
     "text": [
      "Found 1536 mask files to process.\n"
     ]
    },
    {
     "name": "stderr",
     "output_type": "stream",
     "text": [
      "Measuring masks:   5%|███▏                                                           | 78/1536 [00:35<10:46,  2.25it/s]"
     ]
    }
   ],
   "source": [
    "# === Main Loop ===\n",
    "mask_files = [f for f in os.listdir(masks_folder) if f.endswith(\"_masks.tif\")]\n",
    "print(f\"Found {len(mask_files)} mask files to process.\")\n",
    "\n",
    "with tqdm(total=len(mask_files), desc=\"Measuring masks\", dynamic_ncols=True) as pbar:\n",
    "    for mask_fname in mask_files:\n",
    "        mask_path = os.path.join(masks_folder, mask_fname)\n",
    "        base_name = mask_fname.replace(\"_masks.tif\", \"\")\n",
    "        # Find the corresponding stack file (try .tif and .tiff)\n",
    "        stack_path = os.path.join(stacks_folder, base_name + \".tif\")\n",
    "        if not os.path.exists(stack_path):\n",
    "            stack_path = os.path.join(stacks_folder, base_name + \".tiff\")\n",
    "            if not os.path.exists(stack_path):\n",
    "                print(f\"⚠️ Stack not found for {mask_fname}\")\n",
    "                pbar.update(1)\n",
    "                continue\n",
    "\n",
    "        # Read images\n",
    "        stack = tifffile.imread(stack_path)\n",
    "        masks = tifffile.imread(mask_path)\n",
    "        # Assumption: stack[0] = DIC, stack[1] = fluorescence\n",
    "        fluo_img = stack[1]\n",
    "\n",
    "        # Label masks (if not already labeled)\n",
    "        labeled = label(masks)\n",
    "        props = regionprops(labeled, intensity_image=fluo_img)\n",
    "\n",
    "        data = []\n",
    "        for prop in props:\n",
    "            features = shape_features(prop)\n",
    "            data.append({\n",
    "                \"Label\": prop.label,\n",
    "                \"Area\": features[\"Area\"],\n",
    "                \"Length\": features[\"Length\"],\n",
    "                \"Width\": features[\"Width\"],\n",
    "                \"Roundness\": features[\"Roundness\"],\n",
    "                \"Aspect Ratio\": features[\"Aspect Ratio\"],\n",
    "                \"Mean Intensity\": prop.mean_intensity,\n",
    "                \"Centroid X\": prop.centroid[1],\n",
    "                \"Centroid Y\": prop.centroid[0],\n",
    "            })\n",
    "\n",
    "        df = pd.DataFrame(data)\n",
    "        # Save to Excel in the masks folder\n",
    "        excel_output_path = os.path.join(masks_folder, f\"{base_name}.xlsx\")\n",
    "        df.to_excel(excel_output_path, index=False)\n",
    "\n",
    "        pbar.update(1)\n",
    "\n",
    "print(\"✅ Measurement extraction from masks complete.\")"
   ]
  },
  {
   "cell_type": "code",
   "execution_count": null,
   "id": "0a3ca27a-a578-4f97-b7b0-68037f77598b",
   "metadata": {},
   "outputs": [],
   "source": []
  }
 ],
 "metadata": {
  "kernelspec": {
   "display_name": "Python 3 (ipykernel)",
   "language": "python",
   "name": "python3"
  },
  "language_info": {
   "codemirror_mode": {
    "name": "ipython",
    "version": 3
   },
   "file_extension": ".py",
   "mimetype": "text/x-python",
   "name": "python",
   "nbconvert_exporter": "python",
   "pygments_lexer": "ipython3",
   "version": "3.8.20"
  }
 },
 "nbformat": 4,
 "nbformat_minor": 5
}
