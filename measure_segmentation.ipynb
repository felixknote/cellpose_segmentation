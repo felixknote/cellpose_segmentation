{
 "cells": [
  {
   "cell_type": "code",
   "execution_count": 1,
   "id": "3dc22e47-f1d0-4456-9e66-3abbd8322328",
   "metadata": {},
   "outputs": [],
   "source": [
    "import os\n",
    "import re\n",
    "import glob\n",
    "import numpy as np\n",
    "import tifffile\n",
    "import pandas as pd\n",
    "from skimage.measure import regionprops, label\n",
    "from tqdm import tqdm"
   ]
  },
  {
   "cell_type": "code",
   "execution_count": 2,
   "id": "4b09c112-98f6-4be4-b6d8-6776bc9cfd1b",
   "metadata": {},
   "outputs": [],
   "source": [
    "# === Parameters ===\n",
    "masks_folder = r\"D:\\Data\\FK_P001_EX005_2025_03_21 60xWIA 1.5x CRISPRi mCh\\TIF\\results\\stacked\\cyto3_gpu_results\"\n",
    "stacks_folder = r\"D:\\Data\\FK_P001_EX005_2025_03_21 60xWIA 1.5x CRISPRi mCh\\TIF\\results\\stacked\\aligned_stacks\""
   ]
  },
  {
   "cell_type": "code",
   "execution_count": 3,
   "id": "d98a1e58-acd1-4386-b2c0-23b461d064e8",
   "metadata": {},
   "outputs": [],
   "source": [
    "# === Utility: shape features ===\n",
    "def shape_features(region):\n",
    "    area = region.area\n",
    "    perimeter = region.perimeter if region.perimeter > 0 else 1\n",
    "    roundness = 4 * np.pi * area / (perimeter ** 2)\n",
    "    major_axis = region.major_axis_length\n",
    "    minor_axis = region.minor_axis_length\n",
    "    aspect_ratio = major_axis / minor_axis if minor_axis != 0 else 0\n",
    "    return {\n",
    "        \"Area\": area,\n",
    "        \"Length\": major_axis,\n",
    "        \"Width\": minor_axis,\n",
    "        \"Roundness\": roundness,\n",
    "        \"Aspect Ratio\": aspect_ratio\n",
    "    }"
   ]
  },
  {
   "cell_type": "code",
   "execution_count": 4,
   "id": "a1b118b1-c224-4845-8074-59326476b70d",
   "metadata": {},
   "outputs": [
    {
     "name": "stdout",
     "output_type": "stream",
     "text": [
      "Found 389 mask files to process.\n"
     ]
    },
    {
     "name": "stderr",
     "output_type": "stream",
     "text": [
      "Measuring masks:   0%|                                                                         | 0/389 [00:00<?, ?it/s]"
     ]
    },
    {
     "name": "stdout",
     "output_type": "stream",
     "text": [
      "Extracted: Well=WellA01, Seq=Seq0000, Z=Z10\n",
      "Searching for stack files: D:\\Data\\FK_P001_EX005_2025_03_21 60xWIA 1.5x CRISPRi mCh\\TIF\\results\\stacked\\aligned_stacks\\WellA01_Seq0000_Z10_*_stack.tif*\n"
     ]
    },
    {
     "name": "stderr",
     "output_type": "stream",
     "text": [
      "\n"
     ]
    },
    {
     "ename": "ValueError",
     "evalue": "Label and intensity image shapes must match, except for channel (last) axis.",
     "output_type": "error",
     "traceback": [
      "\u001b[1;31m---------------------------------------------------------------------------\u001b[0m",
      "\u001b[1;31mValueError\u001b[0m                                Traceback (most recent call last)",
      "Cell \u001b[1;32mIn[4], line 48\u001b[0m\n\u001b[0;32m     46\u001b[0m \u001b[38;5;66;03m# Label masks and get regions\u001b[39;00m\n\u001b[0;32m     47\u001b[0m labeled \u001b[38;5;241m=\u001b[39m label(masks)\n\u001b[1;32m---> 48\u001b[0m props \u001b[38;5;241m=\u001b[39m \u001b[43mregionprops\u001b[49m\u001b[43m(\u001b[49m\u001b[43mlabeled\u001b[49m\u001b[43m,\u001b[49m\u001b[43m \u001b[49m\u001b[43mintensity_image\u001b[49m\u001b[38;5;241;43m=\u001b[39;49m\u001b[43mfluo_img\u001b[49m\u001b[43m)\u001b[49m\n\u001b[0;32m     50\u001b[0m data \u001b[38;5;241m=\u001b[39m []\n\u001b[0;32m     51\u001b[0m \u001b[38;5;66;03m# Process individual regions\u001b[39;00m\n",
      "File \u001b[1;32m~\\.conda\\envs\\cellpose\\lib\\site-packages\\skimage\\measure\\_regionprops.py:1324\u001b[0m, in \u001b[0;36mregionprops\u001b[1;34m(label_image, intensity_image, cache, extra_properties, spacing, offset)\u001b[0m\n\u001b[0;32m   1320\u001b[0m         \u001b[38;5;28;01mcontinue\u001b[39;00m\n\u001b[0;32m   1322\u001b[0m     label \u001b[38;5;241m=\u001b[39m i \u001b[38;5;241m+\u001b[39m \u001b[38;5;241m1\u001b[39m\n\u001b[1;32m-> 1324\u001b[0m     props \u001b[38;5;241m=\u001b[39m \u001b[43mRegionProperties\u001b[49m\u001b[43m(\u001b[49m\u001b[43msl\u001b[49m\u001b[43m,\u001b[49m\u001b[43m \u001b[49m\u001b[43mlabel\u001b[49m\u001b[43m,\u001b[49m\u001b[43m \u001b[49m\u001b[43mlabel_image\u001b[49m\u001b[43m,\u001b[49m\u001b[43m \u001b[49m\u001b[43mintensity_image\u001b[49m\u001b[43m,\u001b[49m\n\u001b[0;32m   1325\u001b[0m \u001b[43m                             \u001b[49m\u001b[43mcache\u001b[49m\u001b[43m,\u001b[49m\u001b[43m \u001b[49m\u001b[43mspacing\u001b[49m\u001b[38;5;241;43m=\u001b[39;49m\u001b[43mspacing\u001b[49m\u001b[43m,\u001b[49m\u001b[43m \u001b[49m\u001b[43mextra_properties\u001b[49m\u001b[38;5;241;43m=\u001b[39;49m\u001b[43mextra_properties\u001b[49m\u001b[43m,\u001b[49m\n\u001b[0;32m   1326\u001b[0m \u001b[43m                             \u001b[49m\u001b[43moffset\u001b[49m\u001b[38;5;241;43m=\u001b[39;49m\u001b[43moffset_arr\u001b[49m\u001b[43m)\u001b[49m\n\u001b[0;32m   1327\u001b[0m     regions\u001b[38;5;241m.\u001b[39mappend(props)\n\u001b[0;32m   1329\u001b[0m \u001b[38;5;28;01mreturn\u001b[39;00m regions\n",
      "File \u001b[1;32m~\\.conda\\envs\\cellpose\\lib\\site-packages\\skimage\\measure\\_regionprops.py:299\u001b[0m, in \u001b[0;36mRegionProperties.__init__\u001b[1;34m(self, slice, label, label_image, intensity_image, cache_active, extra_properties, spacing, offset)\u001b[0m\n\u001b[0;32m    294\u001b[0m     ndim \u001b[38;5;241m=\u001b[39m label_image\u001b[38;5;241m.\u001b[39mndim\n\u001b[0;32m    295\u001b[0m     \u001b[38;5;28;01mif\u001b[39;00m \u001b[38;5;129;01mnot\u001b[39;00m (\n\u001b[0;32m    296\u001b[0m             intensity_image\u001b[38;5;241m.\u001b[39mshape[:ndim] \u001b[38;5;241m==\u001b[39m label_image\u001b[38;5;241m.\u001b[39mshape\n\u001b[0;32m    297\u001b[0m             \u001b[38;5;129;01mand\u001b[39;00m intensity_image\u001b[38;5;241m.\u001b[39mndim \u001b[38;5;129;01min\u001b[39;00m [ndim, ndim \u001b[38;5;241m+\u001b[39m \u001b[38;5;241m1\u001b[39m]\n\u001b[0;32m    298\u001b[0m             ):\n\u001b[1;32m--> 299\u001b[0m         \u001b[38;5;28;01mraise\u001b[39;00m \u001b[38;5;167;01mValueError\u001b[39;00m(\u001b[38;5;124m'\u001b[39m\u001b[38;5;124mLabel and intensity image shapes must match,\u001b[39m\u001b[38;5;124m'\u001b[39m\n\u001b[0;32m    300\u001b[0m                          \u001b[38;5;124m'\u001b[39m\u001b[38;5;124m except for channel (last) axis.\u001b[39m\u001b[38;5;124m'\u001b[39m)\n\u001b[0;32m    301\u001b[0m     multichannel \u001b[38;5;241m=\u001b[39m label_image\u001b[38;5;241m.\u001b[39mshape \u001b[38;5;241m<\u001b[39m intensity_image\u001b[38;5;241m.\u001b[39mshape\n\u001b[0;32m    302\u001b[0m \u001b[38;5;28;01melse\u001b[39;00m:\n",
      "\u001b[1;31mValueError\u001b[0m: Label and intensity image shapes must match, except for channel (last) axis."
     ]
    }
   ],
   "source": [
    "# === Main Loop ===\n",
    "mask_files = [f for f in os.listdir(masks_folder) if f.endswith(\"_masks.tif\")]\n",
    "print(f\"Found {len(mask_files)} mask files to process.\")\n",
    "\n",
    "# Flag for DataFrame structure output\n",
    "first_file_processed = False\n",
    "\n",
    "with tqdm(total=len(mask_files), desc=\"Measuring masks\", dynamic_ncols=True) as pbar:\n",
    "    for mask_fname in mask_files:\n",
    "        mask_path = os.path.join(masks_folder, mask_fname)\n",
    "\n",
    "        # Extract identifiers from mask filename\n",
    "        match = re.search(r\"Well([A-Z]\\d+)_Seq(\\d+)_Z(\\d+)_slice\\d+_stack_masks\", mask_fname)\n",
    "        if not match:\n",
    "            print(f\"⚠️ Could not parse identifiers from {mask_fname}\")\n",
    "            pbar.update(1)\n",
    "            continue\n",
    "\n",
    "        well, seq, z = match.groups()\n",
    "        well_id = f\"Well{well}\"\n",
    "        seq_id = f\"Seq{seq}\"\n",
    "        z_id = f\"Z{z}\"\n",
    "\n",
    "        # Debugging: Print extracted identifiers\n",
    "        print(f\"Extracted: Well={well_id}, Seq={seq_id}, Z={z_id}\")\n",
    "\n",
    "        stack_pattern = f\"{well_id}_{seq_id}_{z_id}_*_stack.tif*\"\n",
    "        stack_search_path = os.path.join(stacks_folder, stack_pattern)\n",
    "        stack_files = glob.glob(stack_search_path)\n",
    "\n",
    "        # Debugging: Print the search path\n",
    "        print(f\"Searching for stack files: {stack_search_path}\")\n",
    "\n",
    "        if not stack_files:\n",
    "            print(f\"⚠️ Stack not found for {mask_fname}\")\n",
    "            pbar.update(1)\n",
    "            continue\n",
    "\n",
    "        stack_path = stack_files[0]\n",
    "\n",
    "        # Read images\n",
    "        stack = tifffile.imread(stack_path)\n",
    "        masks = tifffile.imread(mask_path)\n",
    "        fluo_img = stack[1]\n",
    "\n",
    "        # Label masks and get regions\n",
    "        labeled = label(masks)\n",
    "        props = regionprops(labeled, intensity_image=fluo_img)\n",
    "\n",
    "        data = []\n",
    "        # Process individual regions\n",
    "        for prop in props:\n",
    "            features = shape_features(prop)\n",
    "            data.append({\n",
    "                \"Label\": prop.label,\n",
    "                \"Area\": features[\"Area\"],\n",
    "                \"Length\": features[\"Length\"],\n",
    "                \"Width\": features[\"Width\"],\n",
    "                \"Roundness\": features[\"Roundness\"],\n",
    "                \"Aspect Ratio\": features[\"Aspect Ratio\"],\n",
    "                \"Mean Intensity\": prop.mean_intensity,\n",
    "                \"Centroid X\": prop.centroid[1],\n",
    "                \"Centroid Y\": prop.centroid[0],\n",
    "                \"Type\": \"Object\"\n",
    "            })\n",
    "\n",
    "        # Add background measurements\n",
    "        background_mask = (labeled == 0)\n",
    "        background_pixels = fluo_img[background_mask]\n",
    "        if background_pixels.size > 0:\n",
    "            data.append({\n",
    "                \"Label\": 0,\n",
    "                \"Area\": np.sum(background_mask),\n",
    "                \"Length\": np.nan,\n",
    "                \"Width\": np.nan,\n",
    "                \"Roundness\": np.nan,\n",
    "                \"Aspect Ratio\": np.nan,\n",
    "                \"Mean Intensity\": np.mean(background_pixels),\n",
    "                \"Centroid X\": np.nan,\n",
    "                \"Centroid Y\": np.nan,\n",
    "                \"Type\": \"Background\"\n",
    "            })\n",
    "\n",
    "        # Create DataFrame\n",
    "        df = pd.DataFrame(data)\n",
    "        \n",
    "        # Show DataFrame structure once\n",
    "        if not first_file_processed:\n",
    "            print(\"\\nDataFrame structure:\")\n",
    "            print(df.dtypes)\n",
    "            # Ensure DataFrame is not empty before printing\n",
    "            if not df.empty:\n",
    "                print(\"\\nExample row:\")\n",
    "                print(df.iloc[0])\n",
    "            else:\n",
    "                print(\"\\nDataFrame is empty for the first file.\")\n",
    "            first_file_processed = True\n",
    "\n",
    "        # Save results\n",
    "        base_name = os.path.splitext(mask_fname)[0].replace(\"_masks\", \"\")\n",
    "        excel_output_path = os.path.join(masks_folder, f\"{base_name}.xlsx\")\n",
    "        df.to_excel(excel_output_path, index=False)\n",
    "\n",
    "        pbar.update(1)\n",
    "\n",
    "print(\"✅ Measurement extraction complete.\")"
   ]
  },
  {
   "cell_type": "code",
   "execution_count": 5,
   "id": "0a3ca27a-a578-4f97-b7b0-68037f77598b",
   "metadata": {},
   "outputs": [
    {
     "name": "stdout",
     "output_type": "stream",
     "text": [
      "labeled shape: (3200, 3200)\n",
      "fluo_img shape: (3000, 3000)\n"
     ]
    }
   ],
   "source": [
    "print(\"labeled shape:\", labeled.shape)\n",
    "print(\"fluo_img shape:\", fluo_img.shape)"
   ]
  },
  {
   "cell_type": "code",
   "execution_count": null,
   "id": "4dfd821c-364e-4e19-ae27-aa4fc2c1198c",
   "metadata": {},
   "outputs": [],
   "source": []
  }
 ],
 "metadata": {
  "kernelspec": {
   "display_name": "Python 3 (ipykernel)",
   "language": "python",
   "name": "python3"
  },
  "language_info": {
   "codemirror_mode": {
    "name": "ipython",
    "version": 3
   },
   "file_extension": ".py",
   "mimetype": "text/x-python",
   "name": "python",
   "nbconvert_exporter": "python",
   "pygments_lexer": "ipython3",
   "version": "3.8.20"
  }
 },
 "nbformat": 4,
 "nbformat_minor": 5
}
