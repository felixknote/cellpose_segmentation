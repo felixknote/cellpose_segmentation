{
 "cells": [
  {
   "cell_type": "code",
   "execution_count": 1,
   "id": "bcb0ce4c-31a7-4601-b434-51e2905c98d5",
   "metadata": {},
   "outputs": [],
   "source": [
    "import os\n",
    "import numpy as np\n",
    "import matplotlib.pyplot as plt\n",
    "from tifffile import imread, imwrite\n",
    "from scipy.signal import fftconvolve\n",
    "from scipy.ndimage import shift as nd_shift\n",
    "from tqdm import tqdm\n",
    "\n",
    "INPUT_FOLDER = r\"L:\\43-RVZ\\AIMicroscopy\\Mitarbeiter\\2_Data\\1_NikonTi2\\2025_07_29 60xWI 1.5x nanobody titration\\TIF\\stacked\"\n",
    "SEGMENTATION_FOLDER = r\"L:\\43-RVZ\\AIMicroscopy\\Mitarbeiter\\2_Data\\1_NikonTi2\\2025_07_29 60xWI 1.5x nanobody titration\\TIF\\stacked\"\n",
    "OUTPUT_FOLDER = os.path.join(SEGMENTATION_FOLDER, \"aligned_mean_shift\")\n",
    "REPORT_FOLDER = os.path.join(SEGMENTATION_FOLDER, \"cross_correlation_reports\")\n",
    "SUMMARY_REPORT = os.path.join(SEGMENTATION_FOLDER, \"cross_correlation_summary.png\")\n",
    "MAX_SHIFT_DISPLAY = 50\n",
    "\n",
    "os.makedirs(OUTPUT_FOLDER, exist_ok=True)\n",
    "os.makedirs(REPORT_FOLDER, exist_ok=True)"
   ]
  },
  {
   "cell_type": "code",
   "execution_count": 2,
   "id": "07afb7a6-2138-4376-93b7-d14db04058c2",
   "metadata": {},
   "outputs": [],
   "source": [
    "def load_and_normalize(filepath):\n",
    "    stack = imread(filepath)\n",
    "    dic = stack[0].astype(np.float32)\n",
    "    dic = (dic - np.mean(dic)) / np.std(dic)\n",
    "    fluorescence = stack[1].astype(np.float32)\n",
    "    fluorescence = (fluorescence - np.mean(fluorescence)) / np.std(fluorescence)\n",
    "    return dic, fluorescence"
   ]
  },
  {
   "cell_type": "code",
   "execution_count": 3,
   "id": "e8abd645-1b8a-4b3c-8bb7-2ef0a682fcc6",
   "metadata": {},
   "outputs": [],
   "source": [
    "def fft_cross_correlation(dic, fluorescence):\n",
    "    correlation = fftconvolve(dic, fluorescence[::-1, ::-1], mode='same')\n",
    "    max_y, max_x = np.unravel_index(np.argmax(correlation), correlation.shape)\n",
    "    center_y, center_x = np.array(correlation.shape) // 2\n",
    "    shift_y = max_y - center_y\n",
    "    shift_x = max_x - center_x\n",
    "    return correlation, (shift_y, shift_x)"
   ]
  },
  {
   "cell_type": "code",
   "execution_count": 4,
   "id": "eec85f39-0776-4c9c-8473-29b5aa798261",
   "metadata": {},
   "outputs": [],
   "source": [
    "def plot_correlation_heatmap(correlation, shift, filename, save_folder, max_shift_display=50):\n",
    "    if not os.path.exists(save_folder):\n",
    "        os.makedirs(save_folder)\n",
    "    center_y, center_x = np.array(correlation.shape) // 2\n",
    "    cropped = correlation[\n",
    "        center_y - max_shift_display:center_y + max_shift_display + 1,\n",
    "        center_x - max_shift_display:center_x + max_shift_display + 1\n",
    "    ]\n",
    "    extent = [-max_shift_display, MAX_SHIFT_DISPLAY, MAX_SHIFT_DISPLAY, -MAX_SHIFT_DISPLAY]\n",
    "    plt.figure(figsize=(6,5))\n",
    "    plt.imshow(cropped, cmap='viridis', extent=extent)\n",
    "    plt.scatter(shift[1], shift[0], color='red', label=f'Shift: ({shift[1]}, {shift[0]})')\n",
    "    plt.colorbar(label='Cross-correlation')\n",
    "    plt.xlabel('X shift (pixels)')\n",
    "    plt.ylabel('Y shift (pixels)')\n",
    "    plt.title('FFT-based Cross-Correlation')\n",
    "    plt.legend()\n",
    "    plt.grid(True)\n",
    "    plt.tight_layout()\n",
    "    outpath = os.path.join(save_folder, f\"Cross-Correlation_{os.path.splitext(filename)[0]}.png\")\n",
    "    plt.savefig(outpath)\n",
    "    plt.close()"
   ]
  },
  {
   "cell_type": "code",
   "execution_count": 5,
   "id": "ba3a39f0-da02-4fb7-9a4e-b8073be99a9a",
   "metadata": {},
   "outputs": [],
   "source": [
    "def plot_shift_summary(shifts, max_shift_display, outpath):\n",
    "    shifts = np.array(shifts)\n",
    "    mean_shift = np.mean(shifts, axis=0)\n",
    "    plt.figure(figsize=(6,6))\n",
    "    plt.scatter(shifts[:,1], shifts[:,0], c='blue', alpha=0.7, label='Individual Shifts')\n",
    "    plt.scatter(mean_shift[1], mean_shift[0], c='red', marker='x', s=100, label=f\"Mean Shift ({mean_shift[1]:.2f}, {mean_shift[0]:.2f})\")\n",
    "    plt.xlim([-max_shift_display/2, max_shift_display/2])\n",
    "    plt.ylim([-max_shift_display/2, max_shift_display/2])\n",
    "    plt.xlabel('X shift (pixels)')\n",
    "    plt.ylabel('Y shift (pixels)')\n",
    "    plt.title('Summary of Channel Shifts')\n",
    "    plt.grid(True)\n",
    "    plt.legend()\n",
    "    plt.tight_layout()\n",
    "    plt.savefig(outpath)\n",
    "    plt.close()\n",
    "    return mean_shift"
   ]
  },
  {
   "cell_type": "code",
   "execution_count": 6,
   "id": "91881816-d5e2-45a9-8be5-e13d5c182054",
   "metadata": {},
   "outputs": [],
   "source": [
    "def calculate_shifts(input_folder, max_shift_display, report_folder):\n",
    "    tif_files = [f for f in os.listdir(input_folder) if f.lower().endswith('.tif')]\n",
    "    shifts = []\n",
    "    filenames = []\n",
    "\n",
    "    for filename in tqdm(tif_files, desc=\"Calculating shifts\"):\n",
    "        filepath = os.path.join(input_folder, filename)\n",
    "        try:\n",
    "            dic, fluorescence = load_and_normalize(filepath)\n",
    "        except Exception as e:\n",
    "            print(f\"Error reading {filename}: {e}\")\n",
    "            continue\n",
    "        correlation, shift = fft_cross_correlation(dic, fluorescence)\n",
    "        shifts.append(shift)\n",
    "        filenames.append(filename)\n",
    "        plot_correlation_heatmap(correlation, shift, filename, report_folder, max_shift_display)\n",
    "    return np.array(shifts), filenames"
   ]
  },
  {
   "cell_type": "code",
   "execution_count": 7,
   "id": "3e3bdbe7-d679-4b24-b205-3c585e573086",
   "metadata": {},
   "outputs": [],
   "source": [
    "def apply_mean_shift_and_crop(input_folder, output_folder, mean_shift):\n",
    "    if not os.path.exists(output_folder):\n",
    "        os.makedirs(output_folder)\n",
    "    tif_files = [f for f in os.listdir(input_folder) if f.lower().endswith('.tif')]\n",
    "    for filename in tqdm(tif_files, desc=\"Applying mean shift and cropping\"):\n",
    "        filepath = os.path.join(input_folder, filename)\n",
    "        stack = imread(filepath)\n",
    "        shift_y, shift_x = mean_shift\n",
    "        if shift_y > 0:\n",
    "            crop_top = int(shift_y)\n",
    "            crop_bottom = 0\n",
    "        else:\n",
    "            crop_top = 0\n",
    "            crop_bottom = int(abs(shift_y))\n",
    "        if shift_x > 0:\n",
    "            crop_left = int(shift_x)\n",
    "            crop_right = 0\n",
    "        else:\n",
    "            crop_left = 0\n",
    "            crop_right = int(abs(shift_x))\n",
    "        cropped_channels = []\n",
    "        for channel in stack:\n",
    "            cropped_channel = channel[crop_top:channel.shape[0]-crop_bottom, crop_left:channel.shape[1]-crop_right]\n",
    "            cropped_channels.append(cropped_channel)\n",
    "        cropped_stack = np.stack(cropped_channels)\n",
    "        output_path = os.path.join(output_folder, f\"aligned_{filename}\")\n",
    "        imwrite(output_path, cropped_stack)"
   ]
  },
  {
   "cell_type": "code",
   "execution_count": 8,
   "id": "db80eb09-8e5b-49bc-a8a9-e7b307410ca6",
   "metadata": {
    "scrolled": true
   },
   "outputs": [
    {
     "name": "stderr",
     "output_type": "stream",
     "text": [
      "Calculating shifts: 100%|██████████████████████████████████████████████████████████████| 93/93 [04:17<00:00,  2.77s/it]\n"
     ]
    },
    {
     "name": "stdout",
     "output_type": "stream",
     "text": [
      "\n",
      "Processed 93 files.\n",
      "Valid shifts for summary: 89\n",
      "Mean shift: (Y: -14.36, X: -4.76)\n",
      "Summary plot saved to: L:\\43-RVZ\\AIMicroscopy\\Mitarbeiter\\2_Data\\1_NikonTi2\\2025_07_29 60xWI 1.5x nanobody titration\\TIF\\stacked\\cross_correlation_summary.png\n"
     ]
    },
    {
     "name": "stderr",
     "output_type": "stream",
     "text": [
      "Applying mean shift and cropping: 100%|████████████████████████████████████████████████| 93/93 [01:15<00:00,  1.23it/s]\n"
     ]
    }
   ],
   "source": [
    "def main():\n",
    "    os.makedirs(OUTPUT_FOLDER, exist_ok=True)\n",
    "    os.makedirs(REPORT_FOLDER, exist_ok=True)\n",
    "    shifts, filenames = calculate_shifts(INPUT_FOLDER, MAX_SHIFT_DISPLAY, REPORT_FOLDER)\n",
    "    valid_mask = (np.abs(shifts[:, 0]) <= MAX_SHIFT_DISPLAY) & (np.abs(shifts[:, 1]) <= MAX_SHIFT_DISPLAY)\n",
    "    valid_shifts = shifts[valid_mask]\n",
    "    valid_filenames = np.array(filenames)[valid_mask]\n",
    "    mean_shift = plot_shift_summary(valid_shifts, MAX_SHIFT_DISPLAY, SUMMARY_REPORT)\n",
    "    print(f\"\\nProcessed {len(filenames)} files.\")\n",
    "    print(f\"Valid shifts for summary: {len(valid_shifts)}\")\n",
    "    print(f\"Mean shift: (Y: {mean_shift[0]:.2f}, X: {mean_shift[1]:.2f})\")\n",
    "    print(f\"Summary plot saved to: {SUMMARY_REPORT}\")\n",
    "    apply_mean_shift_and_crop(INPUT_FOLDER, OUTPUT_FOLDER, mean_shift)\n",
    "\n",
    "if __name__ == \"__main__\":\n",
    "    main()"
   ]
  },
  {
   "cell_type": "code",
   "execution_count": null,
   "id": "32c2fa88-478c-4e2f-9f0b-32e2d16fc2a7",
   "metadata": {},
   "outputs": [],
   "source": []
  }
 ],
 "metadata": {
  "kernelspec": {
   "display_name": "Python 3 (ipykernel)",
   "language": "python",
   "name": "python3"
  },
  "language_info": {
   "codemirror_mode": {
    "name": "ipython",
    "version": 3
   },
   "file_extension": ".py",
   "mimetype": "text/x-python",
   "name": "python",
   "nbconvert_exporter": "python",
   "pygments_lexer": "ipython3",
   "version": "3.8.20"
  }
 },
 "nbformat": 4,
 "nbformat_minor": 5
}
